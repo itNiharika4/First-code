{
  "nbformat": 4,
  "nbformat_minor": 0,
  "metadata": {
    "colab": {
      "provenance": [],
      "authorship_tag": "ABX9TyOirmEznl33tnkl75klpw4Y",
      "include_colab_link": true
    },
    "kernelspec": {
      "name": "python3",
      "display_name": "Python 3"
    },
    "language_info": {
      "name": "python"
    }
  },
  "cells": [
    {
      "cell_type": "markdown",
      "metadata": {
        "id": "view-in-github",
        "colab_type": "text"
      },
      "source": [
        "<a href=\"https://colab.research.google.com/github/itNiharika4/First-code/blob/main/a3.ipynb\" target=\"_parent\"><img src=\"https://colab.research.google.com/assets/colab-badge.svg\" alt=\"Open In Colab\"/></a>"
      ]
    },
    {
      "cell_type": "code",
      "execution_count": 3,
      "metadata": {
        "colab": {
          "base_uri": "https://localhost:8080/"
        },
        "id": "uVFM_-8SXZ_j",
        "outputId": "7c2d481e-a899-405c-8ade-a877b7e0a87e"
      },
      "outputs": [
        {
          "output_type": "stream",
          "name": "stdout",
          "text": [
            "The sum of 2 plus 2 is  4\n"
          ]
        }
      ],
      "source": [
        "print(\"The sum of 2 plus 2 is \", 4)"
      ]
    },
    {
      "cell_type": "code",
      "source": [
        "number_of_wife = 1\n",
        "if number_of_wife == 1:\n",
        " print(\"So far so good.\")\n",
        " print(\"Congratulations.\")\n",
        "\n"
      ],
      "metadata": {
        "colab": {
          "base_uri": "https://localhost:8080/"
        },
        "id": "QNe4wUY6ZBpl",
        "outputId": "0c4b94b2-0b5d-4668-deed-a0c7040a61bd"
      },
      "execution_count": 8,
      "outputs": [
        {
          "output_type": "stream",
          "name": "stdout",
          "text": [
            "So far so good.\n",
            "Congratulations.\n"
          ]
        }
      ]
    },
    {
      "cell_type": "code",
      "source": [
        "number = 3\n",
        "if number !=11:\n",
        " print(\"welcome\")\n",
        "\n",
        "print(\"ok\")"
      ],
      "metadata": {
        "colab": {
          "base_uri": "https://localhost:8080/"
        },
        "id": "U3Mi9jchaShU",
        "outputId": "67a4f404-41a9-4e71-f505-26922153feae"
      },
      "execution_count": 12,
      "outputs": [
        {
          "output_type": "stream",
          "name": "stdout",
          "text": [
            "welcome\n",
            "ok\n"
          ]
        }
      ]
    },
    {
      "cell_type": "code",
      "source": [
        " species = \"cow\"\n",
        " if species == \"cat\":\n",
        "  print(\"Yep, it's cat.\")\n",
        " if species != \"cat\":\n",
        "  print(\"Nope, not cat.\")\n"
      ],
      "metadata": {
        "colab": {
          "base_uri": "https://localhost:8080/"
        },
        "id": "U2NdZYCtcGmD",
        "outputId": "257ee0bf-e6d2-4a86-9a1c-ca8770c5c45b"
      },
      "execution_count": 15,
      "outputs": [
        {
          "output_type": "stream",
          "name": "stdout",
          "text": [
            "Nope, not cat.\n"
          ]
        }
      ]
    },
    {
      "cell_type": "code",
      "source": [
        " species = \"cow\"\n",
        "\n",
        " if species == \"cat\":\n",
        "  print(\"Yep, it's cat.\")\n",
        " else:\n",
        "  print(\"Nope, not cat.\")\n"
      ],
      "metadata": {
        "colab": {
          "base_uri": "https://localhost:8080/"
        },
        "id": "J-yFgH-RcjHr",
        "outputId": "85f5f7f3-685b-47c4-c4ab-f888b1d1d8a0"
      },
      "execution_count": 16,
      "outputs": [
        {
          "output_type": "stream",
          "name": "stdout",
          "text": [
            "Nope, not cat.\n"
          ]
        }
      ]
    },
    {
      "cell_type": "code",
      "source": [
        "donut_condition = \"not fresh\"\n",
        "donut_price = \"high\"\n",
        "if donut_condition == \"fresh\":\n",
        " buy_score = 10\n",
        " print(buy_score)\n",
        "elif donut_price == \"low\":\n",
        "  buy_score = 5\n",
        "  print(buy_score)\n",
        "else:\n",
        "  buy_score = 0\n",
        "  print(buy_score)\n"
      ],
      "metadata": {
        "colab": {
          "base_uri": "https://localhost:8080/"
        },
        "id": "Q04QI-oogxKc",
        "outputId": "0c2d42ff-0a14-4ddc-8bf0-7d40c66d375e"
      },
      "execution_count": 31,
      "outputs": [
        {
          "output_type": "stream",
          "name": "stdout",
          "text": [
            "0\n"
          ]
        }
      ]
    },
    {
      "cell_type": "code",
      "source": [],
      "metadata": {
        "id": "nfV874JpjZ_P"
      },
      "execution_count": null,
      "outputs": []
    }
  ]
}