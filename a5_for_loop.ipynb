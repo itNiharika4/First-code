{
  "nbformat": 4,
  "nbformat_minor": 0,
  "metadata": {
    "colab": {
      "provenance": [],
      "authorship_tag": "ABX9TyNOCTi/uVTMGqhvv9AzVVzj",
      "include_colab_link": true
    },
    "kernelspec": {
      "name": "python3",
      "display_name": "Python 3"
    },
    "language_info": {
      "name": "python"
    }
  },
  "cells": [
    {
      "cell_type": "markdown",
      "metadata": {
        "id": "view-in-github",
        "colab_type": "text"
      },
      "source": [
        "<a href=\"https://colab.research.google.com/github/itNiharika4/First-code/blob/main/a5_for_loop.ipynb\" target=\"_parent\"><img src=\"https://colab.research.google.com/assets/colab-badge.svg\" alt=\"Open In Colab\"/></a>"
      ]
    },
    {
      "cell_type": "code",
      "execution_count": null,
      "metadata": {
        "colab": {
          "base_uri": "https://localhost:8080/"
        },
        "id": "M54uoAfpfBRs",
        "outputId": "9575418e-1c35-4091-b811-40b7b2c67227"
      },
      "outputs": [
        {
          "output_type": "stream",
          "name": "stdout",
          "text": [
            "I love to eat this type of fruit:apple\n",
            "I love to eat this type of fruit:apple\n",
            "I love to eat this type of fruit:cheery\n",
            "I love to eat this type of fruit:cheery\n"
          ]
        }
      ],
      "source": [
        "my_list = \"apple\", \"cheery\"\n",
        "for fruit in my_list:\n",
        "  print(f\"I love to eat this type of fruit:\"+ fruit)\n",
        "  print(f\"I love to eat this type of fruit:{fruit}\")\n",
        "\n"
      ]
    },
    {
      "cell_type": "code",
      "source": [
        "# prompt: cleanest_cities = [\"Chokoria\", \"Rajsahi\", \"chittagong\",\n",
        "# \"rangamati\", \"modhopor\"]\n",
        "\n",
        "my_list = \"apple\", \"cheery\"\n",
        "for fruit in my_list:\n",
        "  print(f\"I love to eat this type of fruit:\"+ fruit)\n",
        "  print(f\"I love to eat this type of fruit:{fruit}\")\n",
        "\n",
        "cleanest_cities = [\"Chokoria\", \"Rajsahi\", \"chittagong\",\n",
        "\"rangamati\", \"modhopor\"]\n",
        "\n",
        "for city in cleanest_cities:\n",
        "  print(f\"This is one of the cleanest cities in Bangladesh: \" + city)\n"
      ],
      "metadata": {
        "colab": {
          "base_uri": "https://localhost:8080/"
        },
        "id": "LZFxk76sgjr3",
        "outputId": "e295011b-546f-4495-f0b2-622222af10db"
      },
      "execution_count": null,
      "outputs": [
        {
          "output_type": "stream",
          "name": "stdout",
          "text": [
            "I love to eat this type of fruit:apple\n",
            "I love to eat this type of fruit:apple\n",
            "I love to eat this type of fruit:cheery\n",
            "I love to eat this type of fruit:cheery\n",
            "This is one of the cleanest cities in Bangladesh: Chokoria\n",
            "This is one of the cleanest cities in Bangladesh: Rajsahi\n",
            "This is one of the cleanest cities in Bangladesh: chittagong\n",
            "This is one of the cleanest cities in Bangladesh: rangamati\n",
            "This is one of the cleanest cities in Bangladesh: modhopor\n"
          ]
        }
      ]
    },
    {
      "cell_type": "code",
      "source": [
        "cleanest_cities = [\"Chokoria\", \"Rajsahi\", \"chittagong\",\n",
        "\"rangamati\", \"modhopor\"]\n",
        "a_clean_city = \"chittagong\"\n",
        "for a_clean_city in cleanest_cities:\n",
        " if \"chittagong\" == a_clean_city:\n",
        "  print(\"It's one of the cleanest cities \")\n"
      ],
      "metadata": {
        "colab": {
          "base_uri": "https://localhost:8080/"
        },
        "id": "NVqrVp1wihz1",
        "outputId": "06f75350-55c5-416d-8175-5ccc9207ba91"
      },
      "execution_count": 3,
      "outputs": [
        {
          "output_type": "stream",
          "name": "stdout",
          "text": [
            "It's one of the cleanest cities \n"
          ]
        }
      ]
    },
    {
      "cell_type": "code",
      "source": [
        "first_names = [\"BlueRay \", \"Upchuck \", \"Lojack \",\n",
        "\"Gizmo \", \"Do-Rag \"]\n",
        "last_names = [\"Zzz\", \"Burp\", \"Dogbone\", \"Droop\"]\n",
        "full_names = []\n",
        "for a_first_name in first_names:\n",
        " for a_last_name in last_names:\n",
        "  full_names.append(a_first_name+a_last_name)\n",
        "  print(full_names)\n"
      ],
      "metadata": {
        "colab": {
          "base_uri": "https://localhost:8080/"
        },
        "id": "m9hoVcd8MLu9",
        "outputId": "b6ab242d-9205-4318-a867-51fbe5a1740f"
      },
      "execution_count": 8,
      "outputs": [
        {
          "output_type": "stream",
          "name": "stdout",
          "text": [
            "['BlueRay Zzz']\n",
            "['BlueRay Zzz', 'BlueRay Burp']\n",
            "['BlueRay Zzz', 'BlueRay Burp', 'BlueRay Dogbone']\n",
            "['BlueRay Zzz', 'BlueRay Burp', 'BlueRay Dogbone', 'BlueRay Droop']\n",
            "['BlueRay Zzz', 'BlueRay Burp', 'BlueRay Dogbone', 'BlueRay Droop', 'Upchuck Zzz']\n",
            "['BlueRay Zzz', 'BlueRay Burp', 'BlueRay Dogbone', 'BlueRay Droop', 'Upchuck Zzz', 'Upchuck Burp']\n",
            "['BlueRay Zzz', 'BlueRay Burp', 'BlueRay Dogbone', 'BlueRay Droop', 'Upchuck Zzz', 'Upchuck Burp', 'Upchuck Dogbone']\n",
            "['BlueRay Zzz', 'BlueRay Burp', 'BlueRay Dogbone', 'BlueRay Droop', 'Upchuck Zzz', 'Upchuck Burp', 'Upchuck Dogbone', 'Upchuck Droop']\n",
            "['BlueRay Zzz', 'BlueRay Burp', 'BlueRay Dogbone', 'BlueRay Droop', 'Upchuck Zzz', 'Upchuck Burp', 'Upchuck Dogbone', 'Upchuck Droop', 'Lojack Zzz']\n",
            "['BlueRay Zzz', 'BlueRay Burp', 'BlueRay Dogbone', 'BlueRay Droop', 'Upchuck Zzz', 'Upchuck Burp', 'Upchuck Dogbone', 'Upchuck Droop', 'Lojack Zzz', 'Lojack Burp']\n",
            "['BlueRay Zzz', 'BlueRay Burp', 'BlueRay Dogbone', 'BlueRay Droop', 'Upchuck Zzz', 'Upchuck Burp', 'Upchuck Dogbone', 'Upchuck Droop', 'Lojack Zzz', 'Lojack Burp', 'Lojack Dogbone']\n",
            "['BlueRay Zzz', 'BlueRay Burp', 'BlueRay Dogbone', 'BlueRay Droop', 'Upchuck Zzz', 'Upchuck Burp', 'Upchuck Dogbone', 'Upchuck Droop', 'Lojack Zzz', 'Lojack Burp', 'Lojack Dogbone', 'Lojack Droop']\n",
            "['BlueRay Zzz', 'BlueRay Burp', 'BlueRay Dogbone', 'BlueRay Droop', 'Upchuck Zzz', 'Upchuck Burp', 'Upchuck Dogbone', 'Upchuck Droop', 'Lojack Zzz', 'Lojack Burp', 'Lojack Dogbone', 'Lojack Droop', 'Gizmo Zzz']\n",
            "['BlueRay Zzz', 'BlueRay Burp', 'BlueRay Dogbone', 'BlueRay Droop', 'Upchuck Zzz', 'Upchuck Burp', 'Upchuck Dogbone', 'Upchuck Droop', 'Lojack Zzz', 'Lojack Burp', 'Lojack Dogbone', 'Lojack Droop', 'Gizmo Zzz', 'Gizmo Burp']\n",
            "['BlueRay Zzz', 'BlueRay Burp', 'BlueRay Dogbone', 'BlueRay Droop', 'Upchuck Zzz', 'Upchuck Burp', 'Upchuck Dogbone', 'Upchuck Droop', 'Lojack Zzz', 'Lojack Burp', 'Lojack Dogbone', 'Lojack Droop', 'Gizmo Zzz', 'Gizmo Burp', 'Gizmo Dogbone']\n",
            "['BlueRay Zzz', 'BlueRay Burp', 'BlueRay Dogbone', 'BlueRay Droop', 'Upchuck Zzz', 'Upchuck Burp', 'Upchuck Dogbone', 'Upchuck Droop', 'Lojack Zzz', 'Lojack Burp', 'Lojack Dogbone', 'Lojack Droop', 'Gizmo Zzz', 'Gizmo Burp', 'Gizmo Dogbone', 'Gizmo Droop']\n",
            "['BlueRay Zzz', 'BlueRay Burp', 'BlueRay Dogbone', 'BlueRay Droop', 'Upchuck Zzz', 'Upchuck Burp', 'Upchuck Dogbone', 'Upchuck Droop', 'Lojack Zzz', 'Lojack Burp', 'Lojack Dogbone', 'Lojack Droop', 'Gizmo Zzz', 'Gizmo Burp', 'Gizmo Dogbone', 'Gizmo Droop', 'Do-Rag Zzz']\n",
            "['BlueRay Zzz', 'BlueRay Burp', 'BlueRay Dogbone', 'BlueRay Droop', 'Upchuck Zzz', 'Upchuck Burp', 'Upchuck Dogbone', 'Upchuck Droop', 'Lojack Zzz', 'Lojack Burp', 'Lojack Dogbone', 'Lojack Droop', 'Gizmo Zzz', 'Gizmo Burp', 'Gizmo Dogbone', 'Gizmo Droop', 'Do-Rag Zzz', 'Do-Rag Burp']\n",
            "['BlueRay Zzz', 'BlueRay Burp', 'BlueRay Dogbone', 'BlueRay Droop', 'Upchuck Zzz', 'Upchuck Burp', 'Upchuck Dogbone', 'Upchuck Droop', 'Lojack Zzz', 'Lojack Burp', 'Lojack Dogbone', 'Lojack Droop', 'Gizmo Zzz', 'Gizmo Burp', 'Gizmo Dogbone', 'Gizmo Droop', 'Do-Rag Zzz', 'Do-Rag Burp', 'Do-Rag Dogbone']\n",
            "['BlueRay Zzz', 'BlueRay Burp', 'BlueRay Dogbone', 'BlueRay Droop', 'Upchuck Zzz', 'Upchuck Burp', 'Upchuck Dogbone', 'Upchuck Droop', 'Lojack Zzz', 'Lojack Burp', 'Lojack Dogbone', 'Lojack Droop', 'Gizmo Zzz', 'Gizmo Burp', 'Gizmo Dogbone', 'Gizmo Droop', 'Do-Rag Zzz', 'Do-Rag Burp', 'Do-Rag Dogbone', 'Do-Rag Droop']\n"
          ]
        }
      ]
    },
    {
      "cell_type": "code",
      "source": [
        "num1 = int(input(\"Input 1st number:\"))\n",
        "num2 = int(input(\"Input 2nd number:\"))\n",
        "result= num1 + num2\n",
        "print(\"jog kore pai\", result)\n",
        "result= num1 - num2\n",
        "print(\"the result is\", result)\n",
        "result= num1 * num2\n",
        "print(\"the result is:\", result)\n",
        "esponentiation= num1 ** num2\n",
        "print (\"the result of esponentiation is : \" ,esponentiation)"
      ],
      "metadata": {
        "colab": {
          "base_uri": "https://localhost:8080/",
          "height": 245
        },
        "id": "qNL_7_vO1YV5",
        "outputId": "356e4dc4-8db5-40fc-a7e9-98a3ee69004d"
      },
      "execution_count": 18,
      "outputs": [
        {
          "name": "stdout",
          "output_type": "stream",
          "text": [
            "Input 1st number:5\n",
            "Input 2nd number:5\n"
          ]
        },
        {
          "output_type": "error",
          "ename": "TypeError",
          "evalue": "'int' object is not callable",
          "traceback": [
            "\u001b[0;31m---------------------------------------------------------------------------\u001b[0m",
            "\u001b[0;31mTypeError\u001b[0m                                 Traceback (most recent call last)",
            "\u001b[0;32m<ipython-input-18-44417d1d07b3>\u001b[0m in \u001b[0;36m<cell line: 4>\u001b[0;34m()\u001b[0m\n\u001b[1;32m      2\u001b[0m \u001b[0mnum2\u001b[0m \u001b[0;34m=\u001b[0m \u001b[0mint\u001b[0m\u001b[0;34m(\u001b[0m\u001b[0minput\u001b[0m\u001b[0;34m(\u001b[0m\u001b[0;34m\"Input 2nd number:\"\u001b[0m\u001b[0;34m)\u001b[0m\u001b[0;34m)\u001b[0m\u001b[0;34m\u001b[0m\u001b[0;34m\u001b[0m\u001b[0m\n\u001b[1;32m      3\u001b[0m \u001b[0mresult\u001b[0m\u001b[0;34m=\u001b[0m \u001b[0mnum1\u001b[0m \u001b[0;34m+\u001b[0m \u001b[0mnum2\u001b[0m\u001b[0;34m\u001b[0m\u001b[0;34m\u001b[0m\u001b[0m\n\u001b[0;32m----> 4\u001b[0;31m \u001b[0mprint\u001b[0m\u001b[0;34m(\u001b[0m\u001b[0;34m\"jog kore pai\"\u001b[0m\u001b[0;34m,\u001b[0m \u001b[0mresult\u001b[0m\u001b[0;34m)\u001b[0m\u001b[0;34m\u001b[0m\u001b[0;34m\u001b[0m\u001b[0m\n\u001b[0m\u001b[1;32m      5\u001b[0m \u001b[0mresult\u001b[0m\u001b[0;34m=\u001b[0m \u001b[0mnum1\u001b[0m \u001b[0;34m-\u001b[0m \u001b[0mnum2\u001b[0m\u001b[0;34m\u001b[0m\u001b[0;34m\u001b[0m\u001b[0m\n\u001b[1;32m      6\u001b[0m \u001b[0mprint\u001b[0m\u001b[0;34m(\u001b[0m\u001b[0;34m\"the result is\"\u001b[0m\u001b[0;34m,\u001b[0m \u001b[0mresult\u001b[0m\u001b[0;34m)\u001b[0m\u001b[0;34m\u001b[0m\u001b[0;34m\u001b[0m\u001b[0m\n",
            "\u001b[0;31mTypeError\u001b[0m: 'int' object is not callable"
          ]
        }
      ]
    },
    {
      "cell_type": "markdown",
      "source": [
        "###dictionary\n"
      ],
      "metadata": {
        "id": "fd8jRgfk376d"
      }
    },
    {
      "cell_type": "code",
      "source": [
        "meals= {\"dinner\":\"rice\", \"lunch\":\"chicken\"}\n",
        "meals.values()\n"
      ],
      "metadata": {
        "colab": {
          "base_uri": "https://localhost:8080/"
        },
        "id": "OsxgOaFw4B7t",
        "outputId": "6793252e-1b6d-43f2-a0de-728ba64a8301"
      },
      "execution_count": 19,
      "outputs": [
        {
          "output_type": "execute_result",
          "data": {
            "text/plain": [
              "dict_values(['rice', 'chicken'])"
            ]
          },
          "metadata": {},
          "execution_count": 19
        }
      ]
    },
    {
      "cell_type": "code",
      "source": [
        "meals.keys()"
      ],
      "metadata": {
        "colab": {
          "base_uri": "https://localhost:8080/"
        },
        "id": "MUcEyyVV4oh1",
        "outputId": "a41f35a6-6e07-4ce8-a964-2981fa0815b9"
      },
      "execution_count": 20,
      "outputs": [
        {
          "output_type": "execute_result",
          "data": {
            "text/plain": [
              "dict_keys(['dinner', 'lunch'])"
            ]
          },
          "metadata": {},
          "execution_count": 20
        }
      ]
    },
    {
      "cell_type": "code",
      "source": [
        "meals.item = meals.items()\n",
        "for meal_name, food in meals.item():\n",
        "  print(f\" For {meal_name} I like to eat {food}\" )"
      ],
      "metadata": {
        "colab": {
          "base_uri": "https://localhost:8080/",
          "height": 176
        },
        "id": "c3mxEFqz4v9n",
        "outputId": "ef2e8fc6-3a3b-4368-cffb-524f1e4f8d53"
      },
      "execution_count": 23,
      "outputs": [
        {
          "output_type": "error",
          "ename": "AttributeError",
          "evalue": "'dict' object has no attribute 'item'",
          "traceback": [
            "\u001b[0;31m---------------------------------------------------------------------------\u001b[0m",
            "\u001b[0;31mAttributeError\u001b[0m                            Traceback (most recent call last)",
            "\u001b[0;32m<ipython-input-23-34f6949685a9>\u001b[0m in \u001b[0;36m<cell line: 1>\u001b[0;34m()\u001b[0m\n\u001b[0;32m----> 1\u001b[0;31m \u001b[0mmeals\u001b[0m\u001b[0;34m.\u001b[0m\u001b[0mitem\u001b[0m \u001b[0;34m=\u001b[0m \u001b[0mmeals\u001b[0m\u001b[0;34m.\u001b[0m\u001b[0mitems\u001b[0m\u001b[0;34m(\u001b[0m\u001b[0;34m)\u001b[0m\u001b[0;34m\u001b[0m\u001b[0;34m\u001b[0m\u001b[0m\n\u001b[0m\u001b[1;32m      2\u001b[0m \u001b[0;32mfor\u001b[0m \u001b[0mmeal_name\u001b[0m\u001b[0;34m,\u001b[0m \u001b[0mfood\u001b[0m \u001b[0;32min\u001b[0m \u001b[0mmeals\u001b[0m\u001b[0;34m.\u001b[0m\u001b[0mitem\u001b[0m\u001b[0;34m(\u001b[0m\u001b[0;34m)\u001b[0m\u001b[0;34m:\u001b[0m\u001b[0;34m\u001b[0m\u001b[0;34m\u001b[0m\u001b[0m\n\u001b[1;32m      3\u001b[0m   \u001b[0mprint\u001b[0m\u001b[0;34m(\u001b[0m\u001b[0;34mf\" For {meal_name} I like to eat {food}\"\u001b[0m \u001b[0;34m)\u001b[0m\u001b[0;34m\u001b[0m\u001b[0;34m\u001b[0m\u001b[0m\n",
            "\u001b[0;31mAttributeError\u001b[0m: 'dict' object has no attribute 'item'"
          ]
        }
      ]
    }
  ]
}