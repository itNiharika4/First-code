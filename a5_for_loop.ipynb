{
  "nbformat": 4,
  "nbformat_minor": 0,
  "metadata": {
    "colab": {
      "provenance": [],
      "authorship_tag": "ABX9TyNi4btNN+YW/7QqDg7/UOft",
      "include_colab_link": true
    },
    "kernelspec": {
      "name": "python3",
      "display_name": "Python 3"
    },
    "language_info": {
      "name": "python"
    }
  },
  "cells": [
    {
      "cell_type": "markdown",
      "metadata": {
        "id": "view-in-github",
        "colab_type": "text"
      },
      "source": [
        "<a href=\"https://colab.research.google.com/github/itNiharika4/First-code/blob/main/a5_for_loop.ipynb\" target=\"_parent\"><img src=\"https://colab.research.google.com/assets/colab-badge.svg\" alt=\"Open In Colab\"/></a>"
      ]
    },
    {
      "cell_type": "code",
      "execution_count": null,
      "metadata": {
        "colab": {
          "base_uri": "https://localhost:8080/"
        },
        "id": "M54uoAfpfBRs",
        "outputId": "9575418e-1c35-4091-b811-40b7b2c67227"
      },
      "outputs": [
        {
          "output_type": "stream",
          "name": "stdout",
          "text": [
            "I love to eat this type of fruit:apple\n",
            "I love to eat this type of fruit:apple\n",
            "I love to eat this type of fruit:cheery\n",
            "I love to eat this type of fruit:cheery\n"
          ]
        }
      ],
      "source": [
        "my_list = \"apple\", \"cheery\"\n",
        "for fruit in my_list:\n",
        "  print(f\"I love to eat this type of fruit:\"+ fruit)\n",
        "  print(f\"I love to eat this type of fruit:{fruit}\")\n",
        "\n"
      ]
    },
    {
      "cell_type": "code",
      "source": [
        "# prompt: cleanest_cities = [\"Chokoria\", \"Rajsahi\", \"chittagong\",\n",
        "# \"rangamati\", \"modhopor\"]\n",
        "\n",
        "my_list = \"apple\", \"cheery\"\n",
        "for fruit in my_list:\n",
        "  print(f\"I love to eat this type of fruit:\"+ fruit)\n",
        "  print(f\"I love to eat this type of fruit:{fruit}\")\n",
        "\n",
        "cleanest_cities = [\"Chokoria\", \"Rajsahi\", \"chittagong\",\n",
        "\"rangamati\", \"modhopor\"]\n",
        "\n",
        "for city in cleanest_cities:\n",
        "  print(f\"This is one of the cleanest cities in Bangladesh: \" + city)\n"
      ],
      "metadata": {
        "colab": {
          "base_uri": "https://localhost:8080/"
        },
        "id": "LZFxk76sgjr3",
        "outputId": "e295011b-546f-4495-f0b2-622222af10db"
      },
      "execution_count": null,
      "outputs": [
        {
          "output_type": "stream",
          "name": "stdout",
          "text": [
            "I love to eat this type of fruit:apple\n",
            "I love to eat this type of fruit:apple\n",
            "I love to eat this type of fruit:cheery\n",
            "I love to eat this type of fruit:cheery\n",
            "This is one of the cleanest cities in Bangladesh: Chokoria\n",
            "This is one of the cleanest cities in Bangladesh: Rajsahi\n",
            "This is one of the cleanest cities in Bangladesh: chittagong\n",
            "This is one of the cleanest cities in Bangladesh: rangamati\n",
            "This is one of the cleanest cities in Bangladesh: modhopor\n"
          ]
        }
      ]
    },
    {
      "cell_type": "code",
      "source": [
        "cleanest_cities = [\"Chokoria\", \"Rajsahi\", \"chittagong\",\n",
        "\"rangamati\", \"modhopor\"]\n",
        "a_clean_city = \"chittagong\"\n",
        "for a_clean_city in cleanest_cities:\n",
        " if \"chittagong\" == a_clean_city:\n",
        "  print(\"It's one of the cleanest cities \")\n"
      ],
      "metadata": {
        "colab": {
          "base_uri": "https://localhost:8080/"
        },
        "id": "NVqrVp1wihz1",
        "outputId": "06f75350-55c5-416d-8175-5ccc9207ba91"
      },
      "execution_count": null,
      "outputs": [
        {
          "output_type": "stream",
          "name": "stdout",
          "text": [
            "It's one of the cleanest cities \n"
          ]
        }
      ]
    },
    {
      "cell_type": "code",
      "source": [
        "first_names = [\"BlueRay \", \"Upchuck \", \"Lojack \",\n",
        "\"Gizmo \", \"Do-Rag \"]\n",
        "last_names = [\"Zzz\", \"Burp\", \"Dogbone\", \"Droop\"]\n",
        "full_names = []\n",
        "for a_first_name in first_names:\n",
        " for a_last_name in last_names:\n",
        "  full_names.append(a_first_name+a_last_name)\n",
        "  print(full_names)\n"
      ],
      "metadata": {
        "colab": {
          "base_uri": "https://localhost:8080/"
        },
        "id": "m9hoVcd8MLu9",
        "outputId": "b6ab242d-9205-4318-a867-51fbe5a1740f"
      },
      "execution_count": null,
      "outputs": [
        {
          "output_type": "stream",
          "name": "stdout",
          "text": [
            "['BlueRay Zzz']\n",
            "['BlueRay Zzz', 'BlueRay Burp']\n",
            "['BlueRay Zzz', 'BlueRay Burp', 'BlueRay Dogbone']\n",
            "['BlueRay Zzz', 'BlueRay Burp', 'BlueRay Dogbone', 'BlueRay Droop']\n",
            "['BlueRay Zzz', 'BlueRay Burp', 'BlueRay Dogbone', 'BlueRay Droop', 'Upchuck Zzz']\n",
            "['BlueRay Zzz', 'BlueRay Burp', 'BlueRay Dogbone', 'BlueRay Droop', 'Upchuck Zzz', 'Upchuck Burp']\n",
            "['BlueRay Zzz', 'BlueRay Burp', 'BlueRay Dogbone', 'BlueRay Droop', 'Upchuck Zzz', 'Upchuck Burp', 'Upchuck Dogbone']\n",
            "['BlueRay Zzz', 'BlueRay Burp', 'BlueRay Dogbone', 'BlueRay Droop', 'Upchuck Zzz', 'Upchuck Burp', 'Upchuck Dogbone', 'Upchuck Droop']\n",
            "['BlueRay Zzz', 'BlueRay Burp', 'BlueRay Dogbone', 'BlueRay Droop', 'Upchuck Zzz', 'Upchuck Burp', 'Upchuck Dogbone', 'Upchuck Droop', 'Lojack Zzz']\n",
            "['BlueRay Zzz', 'BlueRay Burp', 'BlueRay Dogbone', 'BlueRay Droop', 'Upchuck Zzz', 'Upchuck Burp', 'Upchuck Dogbone', 'Upchuck Droop', 'Lojack Zzz', 'Lojack Burp']\n",
            "['BlueRay Zzz', 'BlueRay Burp', 'BlueRay Dogbone', 'BlueRay Droop', 'Upchuck Zzz', 'Upchuck Burp', 'Upchuck Dogbone', 'Upchuck Droop', 'Lojack Zzz', 'Lojack Burp', 'Lojack Dogbone']\n",
            "['BlueRay Zzz', 'BlueRay Burp', 'BlueRay Dogbone', 'BlueRay Droop', 'Upchuck Zzz', 'Upchuck Burp', 'Upchuck Dogbone', 'Upchuck Droop', 'Lojack Zzz', 'Lojack Burp', 'Lojack Dogbone', 'Lojack Droop']\n",
            "['BlueRay Zzz', 'BlueRay Burp', 'BlueRay Dogbone', 'BlueRay Droop', 'Upchuck Zzz', 'Upchuck Burp', 'Upchuck Dogbone', 'Upchuck Droop', 'Lojack Zzz', 'Lojack Burp', 'Lojack Dogbone', 'Lojack Droop', 'Gizmo Zzz']\n",
            "['BlueRay Zzz', 'BlueRay Burp', 'BlueRay Dogbone', 'BlueRay Droop', 'Upchuck Zzz', 'Upchuck Burp', 'Upchuck Dogbone', 'Upchuck Droop', 'Lojack Zzz', 'Lojack Burp', 'Lojack Dogbone', 'Lojack Droop', 'Gizmo Zzz', 'Gizmo Burp']\n",
            "['BlueRay Zzz', 'BlueRay Burp', 'BlueRay Dogbone', 'BlueRay Droop', 'Upchuck Zzz', 'Upchuck Burp', 'Upchuck Dogbone', 'Upchuck Droop', 'Lojack Zzz', 'Lojack Burp', 'Lojack Dogbone', 'Lojack Droop', 'Gizmo Zzz', 'Gizmo Burp', 'Gizmo Dogbone']\n",
            "['BlueRay Zzz', 'BlueRay Burp', 'BlueRay Dogbone', 'BlueRay Droop', 'Upchuck Zzz', 'Upchuck Burp', 'Upchuck Dogbone', 'Upchuck Droop', 'Lojack Zzz', 'Lojack Burp', 'Lojack Dogbone', 'Lojack Droop', 'Gizmo Zzz', 'Gizmo Burp', 'Gizmo Dogbone', 'Gizmo Droop']\n",
            "['BlueRay Zzz', 'BlueRay Burp', 'BlueRay Dogbone', 'BlueRay Droop', 'Upchuck Zzz', 'Upchuck Burp', 'Upchuck Dogbone', 'Upchuck Droop', 'Lojack Zzz', 'Lojack Burp', 'Lojack Dogbone', 'Lojack Droop', 'Gizmo Zzz', 'Gizmo Burp', 'Gizmo Dogbone', 'Gizmo Droop', 'Do-Rag Zzz']\n",
            "['BlueRay Zzz', 'BlueRay Burp', 'BlueRay Dogbone', 'BlueRay Droop', 'Upchuck Zzz', 'Upchuck Burp', 'Upchuck Dogbone', 'Upchuck Droop', 'Lojack Zzz', 'Lojack Burp', 'Lojack Dogbone', 'Lojack Droop', 'Gizmo Zzz', 'Gizmo Burp', 'Gizmo Dogbone', 'Gizmo Droop', 'Do-Rag Zzz', 'Do-Rag Burp']\n",
            "['BlueRay Zzz', 'BlueRay Burp', 'BlueRay Dogbone', 'BlueRay Droop', 'Upchuck Zzz', 'Upchuck Burp', 'Upchuck Dogbone', 'Upchuck Droop', 'Lojack Zzz', 'Lojack Burp', 'Lojack Dogbone', 'Lojack Droop', 'Gizmo Zzz', 'Gizmo Burp', 'Gizmo Dogbone', 'Gizmo Droop', 'Do-Rag Zzz', 'Do-Rag Burp', 'Do-Rag Dogbone']\n",
            "['BlueRay Zzz', 'BlueRay Burp', 'BlueRay Dogbone', 'BlueRay Droop', 'Upchuck Zzz', 'Upchuck Burp', 'Upchuck Dogbone', 'Upchuck Droop', 'Lojack Zzz', 'Lojack Burp', 'Lojack Dogbone', 'Lojack Droop', 'Gizmo Zzz', 'Gizmo Burp', 'Gizmo Dogbone', 'Gizmo Droop', 'Do-Rag Zzz', 'Do-Rag Burp', 'Do-Rag Dogbone', 'Do-Rag Droop']\n"
          ]
        }
      ]
    },
    {
      "cell_type": "code",
      "source": [
        "num1 = int(input(\"Input 1st number:\"))\n",
        "num2 = int(input(\"Input 2nd number:\"))\n",
        "result=int (num1 + num2)\n",
        "print(\"jog kore pai\", result)\n",
        "result= num1 - num2\n",
        "print(\"the result is\", result)\n",
        "result= num1 * num2\n",
        "print(\"the result is:\", result)\n",
        "esponentiation= num1 ** num2\n",
        "print (\"the result of esponentiation is : \" ,esponentiation)"
      ],
      "metadata": {
        "colab": {
          "base_uri": "https://localhost:8080/"
        },
        "id": "qNL_7_vO1YV5",
        "outputId": "e3f705b5-f88b-4077-8ff4-3b1624dac81d"
      },
      "execution_count": 3,
      "outputs": [
        {
          "output_type": "stream",
          "name": "stdout",
          "text": [
            "Input 1st number:3\n",
            "Input 2nd number:4\n",
            "jog kore pai 7\n",
            "the result is -1\n",
            "the result is: 12\n",
            "the result of esponentiation is :  81\n"
          ]
        }
      ]
    },
    {
      "cell_type": "markdown",
      "source": [
        "###dictionary\n"
      ],
      "metadata": {
        "id": "fd8jRgfk376d"
      }
    },
    {
      "cell_type": "code",
      "source": [
        "meals= {\"dinner\":\"rice\", \"lunch\":\"chicken\"}\n",
        "meals.values()\n"
      ],
      "metadata": {
        "colab": {
          "base_uri": "https://localhost:8080/"
        },
        "id": "OsxgOaFw4B7t",
        "outputId": "6793252e-1b6d-43f2-a0de-728ba64a8301"
      },
      "execution_count": null,
      "outputs": [
        {
          "output_type": "execute_result",
          "data": {
            "text/plain": [
              "dict_values(['rice', 'chicken'])"
            ]
          },
          "metadata": {},
          "execution_count": 19
        }
      ]
    },
    {
      "cell_type": "code",
      "source": [
        "meals.keys()"
      ],
      "metadata": {
        "colab": {
          "base_uri": "https://localhost:8080/"
        },
        "id": "MUcEyyVV4oh1",
        "outputId": "a41f35a6-6e07-4ce8-a964-2981fa0815b9"
      },
      "execution_count": null,
      "outputs": [
        {
          "output_type": "execute_result",
          "data": {
            "text/plain": [
              "dict_keys(['dinner', 'lunch'])"
            ]
          },
          "metadata": {},
          "execution_count": 20
        }
      ]
    }
  ]
}