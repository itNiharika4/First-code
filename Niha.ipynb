{
  "nbformat": 4,
  "nbformat_minor": 0,
  "metadata": {
    "colab": {
      "provenance": [],
      "authorship_tag": "ABX9TyPE4EenQGsMNfLKpapv1EJw",
      "include_colab_link": true
    },
    "kernelspec": {
      "name": "python3",
      "display_name": "Python 3"
    },
    "language_info": {
      "name": "python"
    }
  },
  "cells": [
    {
      "cell_type": "markdown",
      "metadata": {
        "id": "view-in-github",
        "colab_type": "text"
      },
      "source": [
        "<a href=\"https://colab.research.google.com/github/itNiharika4/First-code/blob/main/Niha.ipynb\" target=\"_parent\"><img src=\"https://colab.research.google.com/assets/colab-badge.svg\" alt=\"Open In Colab\"/></a>"
      ]
    },
    {
      "cell_type": "code",
      "execution_count": 1,
      "metadata": {
        "colab": {
          "base_uri": "https://localhost:8080/"
        },
        "id": "S_1btD4b_87S",
        "outputId": "c2cb9c80-04e4-475e-d1ab-35c2a41859c1"
      },
      "outputs": [
        {
          "output_type": "stream",
          "name": "stdout",
          "text": [
            "Yousra\n",
            "Ratul, yousra, shafin\n",
            "They read in BSc 3rd year\n",
            "class 10\n",
            "class 4\n",
            "weight of shafin 20\n",
            "weight_of_yousra 50\n",
            "weight_of_Ratul 70\n"
          ]
        }
      ],
      "source": [
        "# first\n",
        "name = \"Yousra\"\n",
        "print(name)\n",
        "siblings_name = \"Ratul, yousra, shafin\"\n",
        "print(siblings_name)\n",
        "print(\"They read in BSc 3rd year\\nclass 10\\nclass 4\")\n",
        "weight_of_shafin= 20\n",
        "weight_of_yousra = weight_of_shafin + 30\n",
        "weight_of_Ratul = weight_of_shafin + weight_of_yousra\n",
        "print(\"weight of shafin\",weight_of_shafin)\n",
        "print(\"weight_of_yousra\",weight_of_yousra)\n",
        "print(\"weight_of_Ratul\",weight_of_Ratul)"
      ]
    }
  ]
}