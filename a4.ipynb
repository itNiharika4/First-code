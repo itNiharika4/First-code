{
  "nbformat": 4,
  "nbformat_minor": 0,
  "metadata": {
    "colab": {
      "provenance": [],
      "authorship_tag": "ABX9TyNuB5Odo/5a7AyXcAtrXD/C",
      "include_colab_link": true
    },
    "kernelspec": {
      "name": "python3",
      "display_name": "Python 3"
    },
    "language_info": {
      "name": "python"
    }
  },
  "cells": [
    {
      "cell_type": "markdown",
      "metadata": {
        "id": "view-in-github",
        "colab_type": "text"
      },
      "source": [
        "<a href=\"https://colab.research.google.com/github/itNiharika4/First-code/blob/main/a4.ipynb\" target=\"_parent\"><img src=\"https://colab.research.google.com/assets/colab-badge.svg\" alt=\"Open In Colab\"/></a>"
      ]
    },
    {
      "cell_type": "code",
      "execution_count": 28,
      "metadata": {
        "colab": {
          "base_uri": "https://localhost:8080/",
          "height": 315
        },
        "id": "dFIDfXaMRNQr",
        "outputId": "aa1493ab-3e44-4e9a-d206-a6dc7f75d4e6"
      },
      "outputs": [
        {
          "output_type": "stream",
          "name": "stdout",
          "text": [
            "Welcome to New York\n",
            "['Chicago', 'Denver']\n",
            "Welcome to Baltimore\n",
            "Welcome to Los Angeles\n",
            "The city New York is accomplished\n",
            "Welcome to New York\n"
          ]
        },
        {
          "output_type": "error",
          "ename": "IndexError",
          "evalue": "list index out of range",
          "traceback": [
            "\u001b[0;31m---------------------------------------------------------------------------\u001b[0m",
            "\u001b[0;31mIndexError\u001b[0m                                Traceback (most recent call last)",
            "\u001b[0;32m<ipython-input-28-2670ea162f20>\u001b[0m in \u001b[0;36m<cell line: 14>\u001b[0;34m()\u001b[0m\n\u001b[1;32m     12\u001b[0m \u001b[0mprint\u001b[0m\u001b[0;34m(\u001b[0m\u001b[0;34m\"The city \"\u001b[0m \u001b[0;34m+\u001b[0m \u001b[0mlatest_cities_accomplished\u001b[0m \u001b[0;34m+\u001b[0m \u001b[0;34m\" is accomplished\"\u001b[0m\u001b[0;34m)\u001b[0m\u001b[0;34m\u001b[0m\u001b[0;34m\u001b[0m\u001b[0m\n\u001b[1;32m     13\u001b[0m \u001b[0mprint\u001b[0m\u001b[0;34m(\u001b[0m\u001b[0;34m\"Welcome to \"\u001b[0m \u001b[0;34m+\u001b[0m \u001b[0mlatest_cities_accomplished\u001b[0m\u001b[0;34m)\u001b[0m\u001b[0;34m\u001b[0m\u001b[0;34m\u001b[0m\u001b[0m\n\u001b[0;32m---> 14\u001b[0;31m \u001b[0mprint\u001b[0m\u001b[0;34m(\u001b[0m\u001b[0;34m\"Welcome to \"\u001b[0m \u001b[0;34m+\u001b[0m \u001b[0mcities\u001b[0m\u001b[0;34m[\u001b[0m\u001b[0;36m6\u001b[0m\u001b[0;34m]\u001b[0m\u001b[0;34m)\u001b[0m\u001b[0;34m\u001b[0m\u001b[0;34m\u001b[0m\u001b[0m\n\u001b[0m\u001b[1;32m     15\u001b[0m \u001b[0;34m\u001b[0m\u001b[0m\n\u001b[1;32m     16\u001b[0m \u001b[0;34m\u001b[0m\u001b[0m\n",
            "\u001b[0;31mIndexError\u001b[0m: list index out of range"
          ]
        }
      ],
      "source": [
        "cities = [\"Atlanta\", \"Baltimore\", \"Chicago\", \"Denver\", \"Los Angeles\", \"Seattle\"]\n",
        "cities.append(\"New York\")\n",
        "cities.insert(6, \"New York\")\n",
        "print(\"Welcome to \" + cities[6])\n",
        "smaller_list_of_cities = cities[2:4]\n",
        "print(smaller_list_of_cities)\n",
        "del cities[0]\n",
        "print(\"Welcome to \" + cities[0])\n",
        "cities.remove (\"Denver\")\n",
        "print(\"Welcome to \" + cities[2])\n",
        "latest_cities_accomplished = cities.pop(5)\n",
        "print(\"The city \" + latest_cities_accomplished + \" is accomplished\")\n",
        "print(\"Welcome to \" + latest_cities_accomplished)\n",
        "latest_cities_accomplished = cities.pop(1)\n",
        "\n",
        "\n",
        "\n",
        "\n",
        "\n",
        "\n",
        "\n"
      ]
    },
    {
      "cell_type": "code",
      "source": [],
      "metadata": {
        "id": "mEO-CJ4dRtad"
      },
      "execution_count": null,
      "outputs": []
    }
  ]
}