{
  "nbformat": 4,
  "nbformat_minor": 0,
  "metadata": {
    "colab": {
      "provenance": [],
      "authorship_tag": "ABX9TyOaXXrbICe+PjZEgEtM/0tQ",
      "include_colab_link": true
    },
    "kernelspec": {
      "name": "python3",
      "display_name": "Python 3"
    },
    "language_info": {
      "name": "python"
    }
  },
  "cells": [
    {
      "cell_type": "markdown",
      "metadata": {
        "id": "view-in-github",
        "colab_type": "text"
      },
      "source": [
        "<a href=\"https://colab.research.google.com/github/itNiharika4/First-code/blob/main/a4.ipynb\" target=\"_parent\"><img src=\"https://colab.research.google.com/assets/colab-badge.svg\" alt=\"Open In Colab\"/></a>"
      ]
    },
    {
      "cell_type": "code",
      "execution_count": 1,
      "metadata": {
        "colab": {
          "base_uri": "https://localhost:8080/"
        },
        "id": "dFIDfXaMRNQr",
        "outputId": "2a1759b0-1e5b-4365-916d-be96dbe80705"
      },
      "outputs": [
        {
          "output_type": "stream",
          "name": "stdout",
          "text": [
            "Welcome to New York\n",
            "['Chicago', 'Denver']\n",
            "Welcome to Baltimore\n",
            "Welcome to Los Angeles\n",
            "The city New York is accomplished\n",
            "Welcome to New York\n"
          ]
        }
      ],
      "source": [
        "cities = [\"Atlanta\", \"Baltimore\", \"Chicago\", \"Denver\", \"Los Angeles\", \"Seattle\"]\n",
        "cities.append(\"New York\")\n",
        "cities.insert(6, \"New York\")\n",
        "print(\"Welcome to \" + cities[6])\n",
        "smaller_list_of_cities = cities[2:4]\n",
        "print(smaller_list_of_cities)\n",
        "del cities[0]\n",
        "print(\"Welcome to \" + cities[0])\n",
        "cities.remove (\"Denver\")\n",
        "print(\"Welcome to \" + cities[2])\n",
        "latest_cities_accomplished = cities.pop(5)\n",
        "print(\"The city \" + latest_cities_accomplished + \" is accomplished\")\n",
        "print(\"Welcome to \" + latest_cities_accomplished)\n",
        "\n",
        "\n",
        "\n",
        "\n",
        "\n",
        "\n",
        "\n",
        "\n"
      ]
    },
    {
      "cell_type": "code",
      "source": [],
      "metadata": {
        "id": "mEO-CJ4dRtad"
      },
      "execution_count": null,
      "outputs": []
    }
  ]
}